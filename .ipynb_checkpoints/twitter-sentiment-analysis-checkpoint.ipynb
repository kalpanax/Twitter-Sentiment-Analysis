{
 "cells": [
  {
   "cell_type": "markdown",
   "id": "ce6ea10e",
   "metadata": {},
   "source": [
    "# <span style='font-family:montserrat;color:#0A043C'>Twitter Sentiment Analysis</span>"
   ]
  },
  {
   "cell_type": "markdown",
   "id": "1c82a242",
   "metadata": {},
   "source": [
    "### <span style='font-family:montserrat;color:#C84B31'>Project by Kalpana Kashyap</span>"
   ]
  },
  {
   "cell_type": "code",
   "execution_count": 1,
   "id": "5325defe",
   "metadata": {},
   "outputs": [],
   "source": [
    "# utilities\n",
    "import numpy as np\n",
    "import pandas as pd\n",
    "# plotting\n",
    "import seaborn as sns\n",
    "import matplotlib.pyplot as plt\n",
    "# sklearn\n",
    "from sklearn.linear_model import LogisticRegression\n",
    "from sklearn.model_selection import train_test_split\n",
    "from sklearn.feature_extraction.text import TfidfVectorizer\n",
    "from sklearn.metrics import confusion_matrix, classification_report"
   ]
  },
  {
   "cell_type": "code",
   "execution_count": 5,
   "id": "d67d86e4",
   "metadata": {},
   "outputs": [
    {
     "data": {
      "text/html": [
       "<div>\n",
       "<style scoped>\n",
       "    .dataframe tbody tr th:only-of-type {\n",
       "        vertical-align: middle;\n",
       "    }\n",
       "\n",
       "    .dataframe tbody tr th {\n",
       "        vertical-align: top;\n",
       "    }\n",
       "\n",
       "    .dataframe thead th {\n",
       "        text-align: right;\n",
       "    }\n",
       "</style>\n",
       "<table border=\"1\" class=\"dataframe\">\n",
       "  <thead>\n",
       "    <tr style=\"text-align: right;\">\n",
       "      <th></th>\n",
       "      <th>target</th>\n",
       "      <th>ids</th>\n",
       "      <th>date</th>\n",
       "      <th>flag</th>\n",
       "      <th>user</th>\n",
       "      <th>text</th>\n",
       "    </tr>\n",
       "  </thead>\n",
       "  <tbody>\n",
       "    <tr>\n",
       "      <th>12953</th>\n",
       "      <td>12952.0</td>\n",
       "      <td>12953</td>\n",
       "      <td>0</td>\n",
       "      <td>#countrymusicawards   wonder which country the...</td>\n",
       "      <td>NaN</td>\n",
       "      <td>NaN</td>\n",
       "    </tr>\n",
       "    <tr>\n",
       "      <th>25437</th>\n",
       "      <td>25436.0</td>\n",
       "      <td>25437</td>\n",
       "      <td>1</td>\n",
       "      <td>@user pay of #rich #white  #snobs  via @user #...</td>\n",
       "      <td>NaN</td>\n",
       "      <td>NaN</td>\n",
       "    </tr>\n",
       "    <tr>\n",
       "      <th>22708</th>\n",
       "      <td>22707.0</td>\n",
       "      <td>22708</td>\n",
       "      <td>0</td>\n",
       "      <td>first day of school!   #quinnhaley.</td>\n",
       "      <td>NaN</td>\n",
       "      <td>NaN</td>\n",
       "    </tr>\n",
       "    <tr>\n",
       "      <th>30135</th>\n",
       "      <td>30134.0</td>\n",
       "      <td>30135</td>\n",
       "      <td>1</td>\n",
       "      <td>\"the blacks\"? \"the blacks\"? \"blacks\"? *facepal...</td>\n",
       "      <td>NaN</td>\n",
       "      <td>NaN</td>\n",
       "    </tr>\n",
       "    <tr>\n",
       "      <th>4648</th>\n",
       "      <td>4647.0</td>\n",
       "      <td>4648</td>\n",
       "      <td>0</td>\n",
       "      <td>i'm so sick about this news of this little boy...</td>\n",
       "      <td>NaN</td>\n",
       "      <td>NaN</td>\n",
       "    </tr>\n",
       "  </tbody>\n",
       "</table>\n",
       "</div>"
      ],
      "text/plain": [
       "        target    ids date                                               flag  \\\n",
       "12953  12952.0  12953    0  #countrymusicawards   wonder which country the...   \n",
       "25437  25436.0  25437    1  @user pay of #rich #white  #snobs  via @user #...   \n",
       "22708  22707.0  22708    0               first day of school!   #quinnhaley.    \n",
       "30135  30134.0  30135    1  \"the blacks\"? \"the blacks\"? \"blacks\"? *facepal...   \n",
       "4648    4647.0   4648    0  i'm so sick about this news of this little boy...   \n",
       "\n",
       "       user  text  \n",
       "12953   NaN   NaN  \n",
       "25437   NaN   NaN  \n",
       "22708   NaN   NaN  \n",
       "30135   NaN   NaN  \n",
       "4648    NaN   NaN  "
      ]
     },
     "execution_count": 5,
     "metadata": {},
     "output_type": "execute_result"
    }
   ],
   "source": [
    "# Importing the dataset\n",
    "DATASET_COLUMNS=['target','ids','date','flag','user','text']\n",
    "DATASET_ENCODING = \"ISO-8859-1\"\n",
    "df = pd.read_csv('tweets_data.csv', encoding=DATASET_ENCODING, names=DATASET_COLUMNS)\n",
    "df.sample(5)"
   ]
  },
  {
   "cell_type": "code",
   "execution_count": 7,
   "id": "e928df68",
   "metadata": {},
   "outputs": [
    {
     "data": {
      "text/html": [
       "<div>\n",
       "<style scoped>\n",
       "    .dataframe tbody tr th:only-of-type {\n",
       "        vertical-align: middle;\n",
       "    }\n",
       "\n",
       "    .dataframe tbody tr th {\n",
       "        vertical-align: top;\n",
       "    }\n",
       "\n",
       "    .dataframe thead th {\n",
       "        text-align: right;\n",
       "    }\n",
       "</style>\n",
       "<table border=\"1\" class=\"dataframe\">\n",
       "  <thead>\n",
       "    <tr style=\"text-align: right;\">\n",
       "      <th></th>\n",
       "      <th>target</th>\n",
       "      <th>ids</th>\n",
       "      <th>date</th>\n",
       "      <th>flag</th>\n",
       "      <th>user</th>\n",
       "      <th>text</th>\n",
       "    </tr>\n",
       "  </thead>\n",
       "  <tbody>\n",
       "    <tr>\n",
       "      <th>0</th>\n",
       "      <td>NaN</td>\n",
       "      <td>id</td>\n",
       "      <td>label</td>\n",
       "      <td>tweet</td>\n",
       "      <td>NaN</td>\n",
       "      <td>NaN</td>\n",
       "    </tr>\n",
       "    <tr>\n",
       "      <th>1</th>\n",
       "      <td>0.0</td>\n",
       "      <td>1</td>\n",
       "      <td>0</td>\n",
       "      <td>@user when a father is dysfunctional and is s...</td>\n",
       "      <td>NaN</td>\n",
       "      <td>NaN</td>\n",
       "    </tr>\n",
       "    <tr>\n",
       "      <th>2</th>\n",
       "      <td>1.0</td>\n",
       "      <td>2</td>\n",
       "      <td>0</td>\n",
       "      <td>@user @user thanks for #lyft credit i can't us...</td>\n",
       "      <td>NaN</td>\n",
       "      <td>NaN</td>\n",
       "    </tr>\n",
       "    <tr>\n",
       "      <th>3</th>\n",
       "      <td>2.0</td>\n",
       "      <td>3</td>\n",
       "      <td>0</td>\n",
       "      <td>bihday your majesty</td>\n",
       "      <td>NaN</td>\n",
       "      <td>NaN</td>\n",
       "    </tr>\n",
       "    <tr>\n",
       "      <th>4</th>\n",
       "      <td>3.0</td>\n",
       "      <td>4</td>\n",
       "      <td>0</td>\n",
       "      <td>#model   i love u take with u all the time in ...</td>\n",
       "      <td>NaN</td>\n",
       "      <td>NaN</td>\n",
       "    </tr>\n",
       "  </tbody>\n",
       "</table>\n",
       "</div>"
      ],
      "text/plain": [
       "   target ids   date                                               flag  user  \\\n",
       "0     NaN  id  label                                              tweet   NaN   \n",
       "1     0.0   1      0   @user when a father is dysfunctional and is s...   NaN   \n",
       "2     1.0   2      0  @user @user thanks for #lyft credit i can't us...   NaN   \n",
       "3     2.0   3      0                                bihday your majesty   NaN   \n",
       "4     3.0   4      0  #model   i love u take with u all the time in ...   NaN   \n",
       "\n",
       "   text  \n",
       "0   NaN  \n",
       "1   NaN  \n",
       "2   NaN  \n",
       "3   NaN  \n",
       "4   NaN  "
      ]
     },
     "execution_count": 7,
     "metadata": {},
     "output_type": "execute_result"
    }
   ],
   "source": [
    "df.head()"
   ]
  },
  {
   "cell_type": "code",
   "execution_count": 9,
   "id": "d737aef2",
   "metadata": {},
   "outputs": [
    {
     "data": {
      "text/plain": [
       "Index(['target', 'ids', 'date', 'flag', 'user', 'text'], dtype='object')"
      ]
     },
     "execution_count": 9,
     "metadata": {},
     "output_type": "execute_result"
    }
   ],
   "source": [
    "df.columns"
   ]
  },
  {
   "cell_type": "code",
   "execution_count": 10,
   "id": "3ff01681",
   "metadata": {},
   "outputs": [
    {
     "name": "stdout",
     "output_type": "stream",
     "text": [
      "length of data is 31963\n"
     ]
    }
   ],
   "source": [
    "print('length of data is', len(df))"
   ]
  },
  {
   "cell_type": "code",
   "execution_count": 11,
   "id": "71bbea6c",
   "metadata": {},
   "outputs": [
    {
     "data": {
      "text/plain": [
       "(31963, 6)"
      ]
     },
     "execution_count": 11,
     "metadata": {},
     "output_type": "execute_result"
    }
   ],
   "source": [
    "df.shape"
   ]
  },
  {
   "cell_type": "code",
   "execution_count": 12,
   "id": "14d2cb27",
   "metadata": {},
   "outputs": [
    {
     "name": "stdout",
     "output_type": "stream",
     "text": [
      "<class 'pandas.core.frame.DataFrame'>\n",
      "RangeIndex: 31963 entries, 0 to 31962\n",
      "Data columns (total 6 columns):\n",
      " #   Column  Non-Null Count  Dtype  \n",
      "---  ------  --------------  -----  \n",
      " 0   target  31962 non-null  float64\n",
      " 1   ids     31963 non-null  object \n",
      " 2   date    31963 non-null  object \n",
      " 3   flag    31963 non-null  object \n",
      " 4   user    0 non-null      float64\n",
      " 5   text    0 non-null      float64\n",
      "dtypes: float64(3), object(3)\n",
      "memory usage: 1.5+ MB\n"
     ]
    }
   ],
   "source": [
    "df.info()"
   ]
  },
  {
   "cell_type": "code",
   "execution_count": 13,
   "id": "2c8389c3",
   "metadata": {},
   "outputs": [
    {
     "data": {
      "text/plain": [
       "target    float64\n",
       "ids        object\n",
       "date       object\n",
       "flag       object\n",
       "user      float64\n",
       "text      float64\n",
       "dtype: object"
      ]
     },
     "execution_count": 13,
     "metadata": {},
     "output_type": "execute_result"
    }
   ],
   "source": [
    "df.dtypes"
   ]
  },
  {
   "cell_type": "code",
   "execution_count": 14,
   "id": "ea9995d6",
   "metadata": {},
   "outputs": [
    {
     "data": {
      "text/plain": [
       "31963"
      ]
     },
     "execution_count": 14,
     "metadata": {},
     "output_type": "execute_result"
    }
   ],
   "source": [
    "np.sum(df.isnull().any(axis=1))"
   ]
  },
  {
   "cell_type": "code",
   "execution_count": 15,
   "id": "f4e52307",
   "metadata": {},
   "outputs": [
    {
     "name": "stdout",
     "output_type": "stream",
     "text": [
      "Count of columns in the data is:   6\n",
      "Count of rows in the data is:   31963\n"
     ]
    }
   ],
   "source": [
    "print('Count of columns in the data is:  ', len(df.columns))\n",
    "print('Count of rows in the data is:  ', len(df))"
   ]
  },
  {
   "cell_type": "code",
   "execution_count": 16,
   "id": "5109aa2b",
   "metadata": {},
   "outputs": [
    {
     "data": {
      "text/plain": [
       "array([       nan, 0.0000e+00, 1.0000e+00, ..., 3.1959e+04, 3.1960e+04,\n",
       "       3.1961e+04])"
      ]
     },
     "execution_count": 16,
     "metadata": {},
     "output_type": "execute_result"
    }
   ],
   "source": [
    "df['target'].unique()"
   ]
  },
  {
   "cell_type": "markdown",
   "id": "57507712",
   "metadata": {},
   "source": [
    "### Cleaning of Raw Data\n",
    "    Lowering case\n",
    "    Removal of mentions\n",
    "    Removal of special characters\n",
    "    Removal of stopwords\n",
    "    Removal of hyperlinks\n",
    "    Removal of numbers\n",
    "    Removal of whitespaces"
   ]
  },
  {
   "cell_type": "code",
   "execution_count": null,
   "id": "1356087a",
   "metadata": {},
   "outputs": [],
   "source": [
    "def to_lower(word): \n",
    "    result = word.lower() \n",
    "    return result"
   ]
  },
  {
   "cell_type": "code",
   "execution_count": null,
   "id": "6bb43394",
   "metadata": {},
   "outputs": [],
   "source": [
    "def remove_mentions(word):       \n",
    "    result = re.sub(r\"@\\S+\", \"\", word)       \n",
    "    return result"
   ]
  },
  {
   "cell_type": "code",
   "execution_count": null,
   "id": "ec82e450",
   "metadata": {},
   "outputs": [],
   "source": [
    "def remove_special_characters(word):       \n",
    "    result = word.translate(str.maketrans(dict.fromkeys(string.punctuation)))    \n",
    "    return result"
   ]
  },
  {
   "cell_type": "code",
   "execution_count": null,
   "id": "8539ad27",
   "metadata": {},
   "outputs": [],
   "source": [
    "def remove_stop_words(words):       \n",
    "    result = [i for i in words if i not in ENGLISH_STOP_WORDS      \n",
    "    return result"
   ]
  },
  {
   "cell_type": "code",
   "execution_count": null,
   "id": "74e82a6f",
   "metadata": {},
   "outputs": [],
   "source": [
    "def remove_hyperlink(word):       \n",
    "    return re.sub(r\"http\\S+\", \"\", word)"
   ]
  },
  {
   "cell_type": "code",
   "execution_count": null,
   "id": "795ca5ff",
   "metadata": {},
   "outputs": [],
   "source": [
    "from nltk.tokenize import word_tokenize\n",
    "tweets_data['tweet'] = tweets_data['tweet'].apply(word_tokenize)"
   ]
  },
  {
   "cell_type": "code",
   "execution_count": null,
   "id": "87758ca0",
   "metadata": {},
   "outputs": [],
   "source": [
    "from nltk.stem.porter import PorterStemmer\n",
    "stemmer = PorterStemmer()def stem_words(text):       \n",
    "    return \" \".join([stemmer.stem(word) for word in text])\n",
    "tweets_data['tweet'] = tweets_data['tweet'].apply(lambda text: stem_words(text))"
   ]
  },
  {
   "cell_type": "code",
   "execution_count": null,
   "id": "b83cc920",
   "metadata": {},
   "outputs": [],
   "source": []
  }
 ],
 "metadata": {
  "kernelspec": {
   "display_name": "Python 3",
   "language": "python",
   "name": "python3"
  },
  "language_info": {
   "codemirror_mode": {
    "name": "ipython",
    "version": 3
   },
   "file_extension": ".py",
   "mimetype": "text/x-python",
   "name": "python",
   "nbconvert_exporter": "python",
   "pygments_lexer": "ipython3",
   "version": "3.8.8"
  }
 },
 "nbformat": 4,
 "nbformat_minor": 5
}
